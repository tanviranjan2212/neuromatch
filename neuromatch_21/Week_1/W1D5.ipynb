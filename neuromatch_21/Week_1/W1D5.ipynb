{
 "cells": [
  {
   "cell_type": "markdown",
   "metadata": {},
   "source": [
    "# Deep Learning at Neuromatch 2021\n",
    "Tanvi Ranjan, August 2021\n",
    "## Week 1, Day 5: Regularization (Lyle Ungar and colleagues)\n",
    "[W1D5 tutorial](https://deeplearning.neuromatch.io/tutorials/W1D5_Regularization/student/W1D5_Tutorial1.html)\n",
    "\n",
    "Most models have a classic bias-variance tradeoff. \n",
    "* Simple models have high bias\n",
    "* Complex models have high trade-off\n",
    "\n",
    "Methods to regularize?\n",
    "* Early stopping:\n",
    "    Stop when a threshold accuracy is reached\n",
    "* Penalty to weights:\n",
    "    Examples are L1, L2, L-inf (dont't let weights get too big), elastic net\n",
    "* Data Augmentation:\n",
    "    Generate more labeled data\n",
    "* Change learning rate:\n",
    "    - Small learning rate find a deep minima. This could be desirable or not\n",
    "    - Large learning rate finds a broader minima\n",
    "    - Batch size is inversely related to learning rate\n",
    "* Dropout\n",
    "    - During training, randomly drop $p$ fraction of nodes for each mini batch\n",
    "    - In the final model, use all the weights, but shrink it by $p$, i.e., if you dropped half the weights, shrink the weights of the final model by p\n",
    "* Adversarial perturbations\n",
    "    \n",
    "The tutorials in this section have mostly been covered in other sections, so I am only writing code for the parts that are new. These are:\n",
    "* dropout\n",
    "* adversarial examples"
   ]
  },
  {
   "cell_type": "code",
   "execution_count": 33,
   "metadata": {},
   "outputs": [],
   "source": [
    "import numpy as np\n",
    "import matplotlib.pyplot as plt\n",
    "import pathlib\n",
    "import seaborn as sns\n",
    "\n",
    "from torch import nn\n",
    "from torchvision import datasets, transforms\n",
    "from torchvision.datasets import ImageFolder\n",
    "import torch.optim as optim\n",
    "import torch.nn.functional as F\n"
   ]
  },
  {
   "cell_type": "code",
   "execution_count": 7,
   "metadata": {},
   "outputs": [
    {
     "name": "stdout",
     "output_type": "stream",
     "text": [
      "Random seed 2021 has been set.\n"
     ]
    }
   ],
   "source": [
    "import random\n",
    "import torch\n",
    "\n",
    "def set_seed(seed=None, seed_torch=True):\n",
    "    if seed is None:\n",
    "        seed = np.random.choice(2 ** 32)\n",
    "        random.seed(seed)\n",
    "        np.random.seed(seed)\n",
    "    if seed_torch:\n",
    "        torch.manual_seed(seed)\n",
    "        torch.cuda.manual_seed_all(seed)\n",
    "        torch.cuda.manual_seed(seed)\n",
    "        torch.backends.cudnn.benchmark = False\n",
    "        torch.backends.cudnn.deterministic = True\n",
    "    print(f'Random seed {seed} has been set.')\n",
    "\n",
    "\n",
    "# In case that `DataLoader` is used\n",
    "def seed_worker(worker_id):\n",
    "    worker_seed = torch.initial_seed() % 2**32\n",
    "    np.random.seed(worker_seed)\n",
    "    random.seed(worker_seed)\n",
    "\n",
    "SEED = 2021\n",
    "set_seed(seed=SEED)"
   ]
  },
  {
   "cell_type": "markdown",
   "metadata": {},
   "source": [
    "##### Loading data"
   ]
  },
  {
   "cell_type": "code",
   "execution_count": 31,
   "metadata": {},
   "outputs": [
    {
     "name": "stdout",
     "output_type": "stream",
     "text": [
      "Random seed 2021 has been set.\n"
     ]
    }
   ],
   "source": [
    "set_seed(seed=SEED)\n",
    "# creating train data\n",
    "X = torch.rand((10, 1))\n",
    "X.sort(dim = 0)\n",
    "Y = 2*X + 2*torch.empty((X.shape[0], 1)).normal_(mean=0, std=1)  # adding small error in the data\n",
    "\n",
    "X = X.unsqueeze_(1)\n",
    "Y = Y.unsqueeze_(1)\n",
    "\n",
    "# creating test dataset\n",
    "X_test = torch.linspace(0, 1, 40)\n",
    "X_test = X_test.reshape((40, 1, 1))\n",
    "Y_test = 2*X_test\n"
   ]
  },
  {
   "cell_type": "markdown",
   "metadata": {},
   "source": [
    "### Section 2.2: Dropout "
   ]
  },
  {
   "cell_type": "code",
   "execution_count": 41,
   "metadata": {},
   "outputs": [
    {
     "name": "stdout",
     "output_type": "stream",
     "text": [
      "Random seed 2021 has been set.\n"
     ]
    },
    {
     "data": {
      "image/png": "[encoded data removed]",
      "text/plain": [
       "<Figure size 720x216 with 2 Axes>"
      ]
     },
     "metadata": {
      "needs_background": "light"
     },
     "output_type": "display_data"
    }
   ],
   "source": [
    "class NetDropout(nn.Module):\n",
    "    def __init__(self):\n",
    "        super(NetDropout,self).__init__();\n",
    "        self.fc1 = nn.Linear(1,300);\n",
    "        self.fc2 = nn.Linear(300,500);\n",
    "        self.fc3 = nn.Linear(500,1);\n",
    "        self.dropout1 = nn.Dropout(0.4);\n",
    "        self.dropout2 = nn.Dropout(0.2);\n",
    "        \n",
    "    def forward(self, x):\n",
    "        tmp_x = F.leaky_relu(self.dropout1(self.fc1(x)))\n",
    "        x = F.leaky_relu(self.dropout2(self.fc2(tmp_x)))\n",
    "        output = self.fc3(x);\n",
    "        return output\n",
    "    \n",
    "set_seed(SEED)\n",
    "model = NetDropout();\n",
    "criterion = nn.MSELoss();\n",
    "optimizer = optim.Adam(model.parameters(), lr=1e-4)\n",
    "\n",
    "nepoch=10000;\n",
    "train_loss = []; test_loss = [];\n",
    "for epoch in range(nepoch):\n",
    "    # set to train for train behavior of dropout\n",
    "    model.train();\n",
    "    optimizer.zero_grad();\n",
    "    prediction = model(X);\n",
    "    loss = criterion(prediction, Y);\n",
    "    train_loss.append(loss.item())\n",
    "    loss.backward();\n",
    "    optimizer.step();\n",
    "    \n",
    "    # set to eval for test behaviour of dropout\n",
    "    model.eval();\n",
    "    pred_test = model(X_test)\n",
    "    test_loss.append(criterion(pred_test, Y_test))\n",
    "\n",
    "f,ax = plt.subplots(1,2,figsize=(10,3),sharex=True)\n",
    "ax[0].plot(train_loss,'b'); ax[0].set_ylabel('Train loss'); ax[1].set_xlabel('Epoch')\n",
    "ax[1].plot(test_loss,'r'); ax[1].set_ylabel('Test loss'); ax[1].set_xlabel('Epoch')\n",
    "sns.despine();"
   ]
  },
  {
   "cell_type": "markdown",
   "metadata": {},
   "source": [
    "Interestingly, the test loss decreases for one epoch(when zoomed in below), but then increases since the network starts over-fitting"
   ]
  },
  {
   "cell_type": "code",
   "execution_count": 43,
   "metadata": {},
   "outputs": [
    {
     "data": {
      "image/png": "[encoded data removed]",
      "text/plain": [
       "<Figure size 720x216 with 2 Axes>"
      ]
     },
     "metadata": {
      "needs_background": "light"
     },
     "output_type": "display_data"
    }
   ],
   "source": [
    "nn=1000;\n",
    "f,ax = plt.subplots(1,2,figsize=(10,3),sharex=True)\n",
    "ax[0].plot(train_loss[:nn],'b'); ax[0].set_ylabel('Train loss'); ax[1].set_xlabel('Epoch')\n",
    "ax[1].plot(test_loss[:nn],'r'); ax[1].set_ylabel('Test loss'); ax[1].set_xlabel('Epoch')\n",
    "sns.despine();"
   ]
  },
  {
   "cell_type": "markdown",
   "metadata": {},
   "source": [
    "##### Section 2.3: Learning rate as a regularizer"
   ]
  },
  {
   "cell_type": "code",
   "execution_count": null,
   "metadata": {},
   "outputs": [],
   "source": []
  },
  {
   "cell_type": "code",
   "execution_count": null,
   "metadata": {},
   "outputs": [],
   "source": []
  },
  {
   "cell_type": "code",
   "execution_count": null,
   "metadata": {},
   "outputs": [],
   "source": []
  }
 ],
 "metadata": {
  "kernelspec": {
   "display_name": "Python 3",
   "language": "python",
   "name": "python3"
  },
  "language_info": {
   "codemirror_mode": {
    "name": "ipython",
    "version": 3
   },
   "file_extension": ".py",
   "mimetype": "text/x-python",
   "name": "python",
   "nbconvert_exporter": "python",
   "pygments_lexer": "ipython3",
   "version": "3.7.3"
  }
 },
 "nbformat": 4,
 "nbformat_minor": 2
}
