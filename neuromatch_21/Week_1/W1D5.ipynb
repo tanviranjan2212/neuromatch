{
 "cells": [
  {
   "cell_type": "markdown",
   "metadata": {},
   "source": [
    "# Deep Learning at Neuromatch 2021\n",
    "Tanvi Ranjan, August 2021\n",
    "## Week 1, Day 5: Regularization (Lyle Ungar and colleagues)\n",
    "[W1D5 tutorial](https://deeplearning.neuromatch.io/tutorials/W1D5_Regularization/student/W1D5_Tutorial1.html)\n",
    "\n",
    "Most models have a classic bias-variance tradeoff. \n",
    "* Simple models have high bias\n",
    "* Complex models have high trade-off\n",
    "\n",
    "Methods to regularize?\n",
    "* Early stopping\n",
    "    Stop when a threshold accuracy is reached\n",
    "* Penalty to weights\n",
    "    Examples are L1, L2, L-inf (dont't let weights get too big), elastic net\n",
    "* Data Augmentation\n",
    "    Generate more labeled data\n",
    "* Change learning rate:\n",
    "    - Small learning rate find a deep minima. This could be desirable or not\n",
    "    - Large learning rate finds a broader minima\n",
    "    - Batch size is inversely related to learning rate\n",
    "* Dropout"
   ]
  },
  {
   "cell_type": "code",
   "execution_count": null,
   "metadata": {},
   "outputs": [],
   "source": []
  }
 ],
 "metadata": {
  "kernelspec": {
   "display_name": "Python 3",
   "language": "python",
   "name": "python3"
  },
  "language_info": {
   "codemirror_mode": {
    "name": "ipython",
    "version": 3
   },
   "file_extension": ".py",
   "mimetype": "text/x-python",
   "name": "python",
   "nbconvert_exporter": "python",
   "pygments_lexer": "ipython3",
   "version": "3.7.3"
  }
 },
 "nbformat": 4,
 "nbformat_minor": 2
}
