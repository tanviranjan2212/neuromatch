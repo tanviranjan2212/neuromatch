{
 "cells": [
  {
   "cell_type": "markdown",
   "metadata": {},
   "source": [
    "# Deep Learning at Neuromatch 2021\n",
    "## Week 1, Day 1: Basics of Pytorch\n",
    "I was not able to attend Neuromatch 2021, but I worked through the tutorials to better understand Deep Learning\n",
    "\n",
    "#### Section 2.1: Making Tensors"
   ]
  },
  {
   "cell_type": "code",
   "execution_count": 1,
   "metadata": {},
   "outputs": [],
   "source": [
    "!pip install git+https://github.com/NeuromatchAcademy/evaltools --quiet\n",
    "\n",
    "from evaltools.airtable import AirtableForm"
   ]
  },
  {
   "cell_type": "code",
   "execution_count": 36,
   "metadata": {},
   "outputs": [],
   "source": [
    "# Imports\n",
    "import time\n",
    "import torch\n",
    "import random\n",
    "import numpy as np\n",
    "import pandas as pd\n",
    "import matplotlib.pyplot as plt\n",
    "import seaborn as sns\n",
    "\n",
    "from torch import nn\n",
    "from torchvision import datasets\n",
    "from torchvision.transforms import ToTensor\n",
    "from torch.utils.data import DataLoader"
   ]
  },
  {
   "cell_type": "code",
   "execution_count": 3,
   "metadata": {},
   "outputs": [],
   "source": [
    "# @title Helper Functions\n",
    "\n",
    "atform = AirtableForm('appn7VdPRseSoMXEG','W1D1_T1','https://portal.neuromatchacademy.org/api/redirect/to/97e94a29-0b3a-4e16-9a8d-f6838a5bd83d')\n",
    "\n",
    "\n",
    "def checkExercise1(A, B, C, D):\n",
    "  \"\"\"\n",
    "  Helper function for checking exercise.\n",
    "\n",
    "  Args:\n",
    "    A: torch.Tensor\n",
    "    B: torch.Tensor\n",
    "    C: torch.Tensor\n",
    "    D: torch.Tensor\n",
    "  Returns:\n",
    "    Nothing.\n",
    "  \"\"\"\n",
    "  errors = []\n",
    "  # TODO better errors and error handling\n",
    "  if not torch.equal(A.to(int),torch.ones(20, 21).to(int)):\n",
    "    errors.append(f\"Got: {A} \\n Expected: {torch.ones(20, 21)} (shape: {torch.ones(20, 21).shape})\")\n",
    "  if not np.array_equal( B.numpy(),np.vander([1, 2, 3], 4)):\n",
    "    errors.append(\"B is not a tensor containing the elements of Z \")\n",
    "  if C.shape != (20, 21):\n",
    "    errors.append(\"C is not the correct shape \")\n",
    "  if not torch.equal(D, torch.arange(4, 41, step=2)):\n",
    "    errors.append(\"D does not contain the correct elements\")\n",
    "\n",
    "  if errors == []:\n",
    "    print(\"All correct!\")\n",
    "\n",
    "  else:\n",
    "    [print(e) for e in errors]\n",
    "\n",
    "\n",
    "def timeFun(f, dim, iterations, device='cpu'):\n",
    "  iterations = iterations\n",
    "  t_total = 0\n",
    "  for _ in range(iterations):\n",
    "    start = time.time()\n",
    "    f(dim, device)\n",
    "    end = time.time()\n",
    "    t_total += end - start\n",
    "\n",
    "  if device == 'cpu':\n",
    "    print(f\"time taken for {iterations} iterations of {f.__name__}({dim}, {device}): {t_total:.5f}\")\n",
    "  else:\n",
    "    print(f\"time taken for {iterations} iterations of {f.__name__}({dim}, {device}): {t_total:.5f}\")\n"
   ]
  },
  {
   "cell_type": "markdown",
   "metadata": {},
   "source": [
    "##### Constructing tensors from lists, tuples and arrays"
   ]
  },
  {
   "cell_type": "code",
   "execution_count": 20,
   "metadata": {},
   "outputs": [
    {
     "name": "stdout",
     "output_type": "stream",
     "text": [
      "Making tensors from data types\n",
      "tensor([0, 1, 2])\n",
      "tensor([[0, 1],\n",
      "        [1, 2]])\n",
      "tensor([1., 1., 1., 1., 1.], dtype=torch.float64)\n",
      "\n",
      "\n",
      "Making tensors directly\n",
      "tensor([[1., 1., 1., 1., 1.],\n",
      "        [1., 1., 1., 1., 1.]])\n",
      "tensor([[ 0.0000e+00,  2.5244e-29, -2.1964e-37, -1.5849e+29,  1.1210e-44],\n",
      "        [ 0.0000e+00,  0.0000e+00,  0.0000e+00,  0.0000e+00,  0.0000e+00]])\n",
      "\n",
      "\n",
      "Making random tensors\n",
      "tensor([0.5273, 0.2334, 0.7807, 0.6023, 0.1167])\n",
      "tensor([-2.3272, -0.1689, -0.1354, -0.3584,  0.9301])\n"
     ]
    }
   ],
   "source": [
    "from_list = torch.tensor([0,1,2]);\n",
    "from_tuple = torch.tensor(((0,1),(1,2)));\n",
    "from_array = torch.tensor(np.ones(shape=(5,)))\n",
    "# from_text = torch.tensor(['text']) # strings don't work\n",
    "\n",
    "print('Making tensors from data types')\n",
    "print(from_list)\n",
    "print(from_tuple)\n",
    "print(from_array)\n",
    "\n",
    "print('\\n\\nMaking tensors directly')\n",
    "tensor_array = torch.ones([2,5]);\n",
    "tensor_empty = torch.empty([2,5])\n",
    "print(tensor_array)\n",
    "print(tensor_empty)\n",
    "\n",
    "print('\\n\\nMaking random tensors');\n",
    "tensor_randu = torch.rand([5,])\n",
    "tensor_randn = torch.randn([5,])\n",
    "print(tensor_randu)\n",
    "print(tensor_randn)"
   ]
  },
  {
   "cell_type": "code",
   "execution_count": 23,
   "metadata": {},
   "outputs": [],
   "source": [
    "''' Set seed for reproducibility\n",
    "'''\n",
    "seed = 0;\n",
    "np.random.seed(seed);\n",
    "random.seed(seed)\n",
    "\n",
    "# Need extra steps to set seed for torch\n",
    "torch.manual_seed(seed);\n",
    "torch.cuda.manual_seed_all(seed)\n",
    "torch.cuda.manual_seed(seed)\n",
    "torch.backends.cudnn.benchmark = False\n",
    "torch.backends.cudnn.deterministic = True\n",
    "\n"
   ]
  },
  {
   "cell_type": "markdown",
   "metadata": {},
   "source": [
    "Create the following tensors:\n",
    "\n",
    "𝐴:  20 by 21 tensor consisting of ones\n",
    "\n",
    "𝐵: a tensor with elements equal to the elements of numpy array 𝑍\n",
    "\n",
    "𝐶: a tensor with the same number of elements as 𝐴 but with values ∼𝑈(0,1)\n",
    "\n",
    "𝐷: a 1D tensor containing the even numbers between 4 and 40 inclusive."
   ]
  },
  {
   "cell_type": "code",
   "execution_count": 39,
   "metadata": {},
   "outputs": [
    {
     "data": {
      "image/png": "[encoded data removed]",
      "text/plain": [
       "<Figure size 1512x216 with 7 Axes>"
      ]
     },
     "metadata": {
      "needs_background": "light"
     },
     "output_type": "display_data"
    }
   ],
   "source": [
    "Z = np.vander([1, 2, 3], 4)\n",
    "A = torch.ones([20,21]); #print(A)\n",
    "B = torch.tensor(Z); #print(B)\n",
    "C = torch.rand(A.size()); #print(C)\n",
    "D = torch.arange(4, 41, step=2); #print(D)\n",
    "\n",
    "f,ax = plt.subplots(1,4,figsize=(21,3));\n",
    "pos = ax[0].imshow(A); ax[0].set_title('A'); f.colorbar(pos,ax=ax[0])\n",
    "pos = ax[1].imshow(B); ax[1].set_title('B'); f.colorbar(pos,ax=ax[1])\n",
    "pos = ax[2].imshow(C); ax[2].set_title('C'); f.colorbar(pos,ax=ax[2])\n",
    "ax[3].plot(D,'.-'); sns.despine(); ax[3].set_ylabel('even no. b/w 4 and 40');\n",
    "ax[3].set_title('D')\n",
    "\n",
    "plt.show();"
   ]
  },
  {
   "cell_type": "code",
   "execution_count": null,
   "metadata": {},
   "outputs": [],
   "source": []
  }
 ],
 "metadata": {
  "kernelspec": {
   "display_name": "Python 3",
   "language": "python",
   "name": "python3"
  },
  "language_info": {
   "codemirror_mode": {
    "name": "ipython",
    "version": 3
   },
   "file_extension": ".py",
   "mimetype": "text/x-python",
   "name": "python",
   "nbconvert_exporter": "python",
   "pygments_lexer": "ipython3",
   "version": "3.7.3"
  }
 },
 "nbformat": 4,
 "nbformat_minor": 2
}
