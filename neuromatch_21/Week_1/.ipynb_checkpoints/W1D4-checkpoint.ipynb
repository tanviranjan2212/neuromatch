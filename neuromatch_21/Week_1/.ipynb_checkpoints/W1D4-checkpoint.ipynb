{
 "cells": [
  {
   "cell_type": "markdown",
   "metadata": {},
   "source": [
    "# Deep Learning at Neuromatch 2021\n",
    "Tanvi Ranjan, August 2021\n",
    "## Week 1, Day 4: Optimization (Jose-Gallego and colleagues)\n",
    "[W1D4 tutorial](https://deeplearning.neuromatch.io/tutorials/W1D4_Optimization/student/W1D4_Tutorial1.html)\n",
    "\n",
    "This tutorial is all about optimization parameters for training a neural network. There are many parameters to optimize when building a neural network for model prediction or classification, all in addition to choosing the structure of the neural network itself. The following is a list of some parameters:\n",
    "* Learning rate:\n",
    "    Too small a learning rate leads to slow convergence, too large leads to the parameters being bounced around a lot. Problem is solved by using Adaptive learning rate algos such as Adagrad which adapt learning rate for each layer $i$ based on previous gradients:\n",
    "    $$ \\eta_t = \\frac{\\eta}{\\sqrt{[v_{t}]_i + \\epsilon}}, [v_t]_i = \\sum_{s=0}^{t}\\nabla [J(w_s)]_i^2$$\n",
    "    \n",
    "    or RMS-prop, where   $[v_t]_i = \\alpha [v_{t-1}]_i + (1-\\alpha) \\nabla ([J(w_s)]_i)^2$\n",
    "    Adam = RMS-prop + momentum\n",
    "* Conditioning:\n",
    "    History of previous updates is completely disregarded (if not using a learning rate), use momentum for those purposes\n",
    "    \n",
    "* Long time to calculate gradients with Gradient descent\n",
    "    Use stochastic gradient descent with mini-batches.\n",
    "    How to choose batch-size? Choose the biggest that fits on GPU"
   ]
  },
  {
   "cell_type": "code",
   "execution_count": 91,
   "metadata": {},
   "outputs": [],
   "source": [
    "import time\n",
    "import copy\n",
    "import torch\n",
    "import torchvision\n",
    "import numpy as np\n",
    "import pdb\n",
    "\n",
    "import torch.nn as nn\n",
    "import torch.optim as optim\n",
    "import torch.nn.functional as F\n",
    "import torchvision.datasets as datasets\n",
    "import matplotlib.pyplot as plt\n",
    "\n",
    "from tqdm.auto import tqdm"
   ]
  },
  {
   "cell_type": "code",
   "execution_count": 5,
   "metadata": {},
   "outputs": [
    {
     "name": "stdout",
     "output_type": "stream",
     "text": [
      "Random seed 2021 has been set.\n"
     ]
    }
   ],
   "source": [
    "import random\n",
    "import torch\n",
    "\n",
    "def set_seed(seed=None, seed_torch=True):\n",
    "    if seed is None:\n",
    "        seed = np.random.choice(2 ** 32)\n",
    "        random.seed(seed)\n",
    "        np.random.seed(seed)\n",
    "    if seed_torch:\n",
    "        torch.manual_seed(seed)\n",
    "        torch.cuda.manual_seed_all(seed)\n",
    "        torch.cuda.manual_seed(seed)\n",
    "        torch.backends.cudnn.benchmark = False\n",
    "        torch.backends.cudnn.deterministic = True\n",
    "    print(f'Random seed {seed} has been set.')\n",
    "\n",
    "\n",
    "# In case that `DataLoader` is used\n",
    "def seed_worker(worker_id):\n",
    "    worker_seed = torch.initial_seed() % 2**32\n",
    "    np.random.seed(worker_seed)\n",
    "    random.seed(worker_seed)\n",
    "\n",
    "SEED = 2021\n",
    "set_seed(seed=SEED)"
   ]
  },
  {
   "cell_type": "markdown",
   "metadata": {},
   "source": [
    "### Section 1: Optimization techniques\n",
    "##### Section 1.1: MLP for image classification\n",
    "Let's load the data (In NMA, they used a different function, but it is essentially the same), normalize it and subsample (for the purposes of this tutorial)"
   ]
  },
  {
   "cell_type": "code",
   "execution_count": 71,
   "metadata": {},
   "outputs": [
    {
     "data": {
      "image/png": "[encoded data removed]",
      "text/plain": [
       "<Figure size 2160x216 with 5 Axes>"
      ]
     },
     "metadata": {
      "needs_background": "light"
     },
     "output_type": "display_data"
    }
   ],
   "source": [
    "mnist_data_train = datasets.MNIST(root='./data',train=True,download=True,\n",
    "                           transform=torchvision.transforms.ToTensor())\n",
    "mnist_data_test = datasets.MNIST(root='./data',train=False,download=True,\n",
    "                                transform =torchvision.transforms.ToTensor())\n",
    "\n",
    "randidx = torch.randint(len(mnist_data_train), size=(5,))\n",
    "\n",
    "f,ax = plt.subplots(1,5,figsize=(30,3),sharex=True,sharey=True)\n",
    "for ir, rr in enumerate(randidx):\n",
    "    img, label = mnist_data_train[rr];\n",
    "    ax[ir].imshow(img.squeeze()); ax[ir].set_title(label)\n",
    "    \n",
    "train_mean, train_std = mnist_data_train.data.float().mean(), mnist_data_train.data.float().std();\n",
    "\n",
    "mnist_data_train.data = (mnist_data_train.data.float() - train_mean)/train_std\n",
    "mnist_data_test.data = (mnist_data_test.data.float() - train_mean)/train_std\n",
    "\n",
    "Nchoose = 500;\n",
    "choose_idx = np.random.choice(len(mnist_data_train),Nchoose)\n",
    "X,y = mnist_data_train.data[choose_idx,:], mnist_data_train.targets[choose_idx]"
   ]
  },
  {
   "cell_type": "markdown",
   "metadata": {},
   "source": [
    "##### Section 1.2: Build a simple MLP"
   ]
  },
  {
   "cell_type": "code",
   "execution_count": 58,
   "metadata": {},
   "outputs": [],
   "source": [
    "class MLP(nn.Module):\n",
    "    def __init__(self, in_dim=784, out_dim=1, hidden_dim=[], use_bias=True):\n",
    "        super(MLP,self).__init__();\n",
    "        self.in_dim = in_dim;\n",
    "        self.out_dim = out_dim;\n",
    "        \n",
    "        if len(hidden_dim)==0:\n",
    "            layers = [nn.Linear(self.in_dim, self.out_dim, bias=use_bias)]\n",
    "        else:\n",
    "            layers = [nn.Linear(self.in_dim, hidden_dim[0])]\n",
    "            for i,hid in enumerate(hidden_dim[:-1]):\n",
    "                layers+=[nn.Linear(hid, hidden_dim[i+1], bias=use_bias), nn.ReLU()]\n",
    "                \n",
    "            layers+=[nn.Linear(hidden_dim[-1], self.out_dim)]\n",
    "                \n",
    "        self.main = nn.Sequential(*layers)\n",
    "#         self.layers = layers\n",
    "        \n",
    "    def forward(self, x):\n",
    "        #x is an image, flatten it\n",
    "        t_x = x.view(-1,self.in_dim)\n",
    "        hidden_output = self.main(t_x)\n",
    "        output = F.log_softmax(hidden_output, dim=1)\n",
    "        return output\n",
    "    \n",
    "model = MLP(in_dim=784, out_dim=10, hidden_dim=[]); #print(model)"
   ]
  },
  {
   "cell_type": "markdown",
   "metadata": {},
   "source": [
    "##### Visualize weights for each class\n",
    "Looks cool that weights look like the integers for each class pretty much"
   ]
  },
  {
   "cell_type": "code",
   "execution_count": 83,
   "metadata": {},
   "outputs": [
    {
     "data": {
      "image/png": "[encoded data removed]",
      "text/plain": [
       "<Figure size 2160x216 with 10 Axes>"
      ]
     },
     "metadata": {
      "needs_background": "light"
     },
     "output_type": "display_data"
    }
   ],
   "source": [
    "loss_fn = F.nll_loss\n",
    "\n",
    "partially_trained_model = MLP(in_dim=28*28, out_dim=10, hidden_dim=[]);\n",
    "optimizer = optim.Adam(partially_trained_model.parameters(), lr=7e-4)\n",
    "\n",
    "for iepoch in range(200):\n",
    "    optimizer.zero_grad();\n",
    "    loss = loss_fn(partially_trained_model(X),y);\n",
    "    loss.backward()\n",
    "    optimizer.step()\n",
    "    \n",
    "W=partially_trained_model.main[0].weight.data.numpy()\n",
    "f,ax = plt.subplots(1,10,figsize=(30,3),sharex=True,sharey=True)\n",
    "for iclass in range(10):\n",
    "    ax[iclass].imshow(W[iclass,].reshape(28,28),cmap='gray_r');\n",
    "    ax[iclass].set_title(f'Class: {iclass}')"
   ]
  },
  {
   "cell_type": "markdown",
   "metadata": {},
   "source": [
    "##### Implement gradient descent yourself"
   ]
  },
  {
   "cell_type": "code",
   "execution_count": 87,
   "metadata": {},
   "outputs": [
    {
     "name": "stdout",
     "output_type": "stream",
     "text": [
      "Random seed 2021 has been set.\n",
      "\n",
      " The model1 parameters before the update are: \n",
      "\n",
      "Parameter containing:\n",
      "tensor([[-0.0264,  0.0010,  0.0173,  ...,  0.0297,  0.0278, -0.0221],\n",
      "        [-0.0040, -0.0295, -0.0086,  ..., -0.0070,  0.0254, -0.0233],\n",
      "        [ 0.0240, -0.0231,  0.0342,  ...,  0.0124,  0.0270, -0.0180],\n",
      "        ...,\n",
      "        [-0.0005,  0.0157,  0.0111,  ...,  0.0144, -0.0301, -0.0144],\n",
      "        [ 0.0181,  0.0303,  0.0255,  ..., -0.0110, -0.0175,  0.0205],\n",
      "        [ 0.0208, -0.0353, -0.0183,  ..., -0.0271,  0.0099,  0.0003]],\n",
      "       requires_grad=True)\n",
      "Parameter containing:\n",
      "tensor([-0.0290, -0.0033,  0.0100, -0.0320,  0.0022,  0.0221,  0.0307,  0.0243,\n",
      "         0.0159, -0.0064], requires_grad=True)\n",
      "\n",
      " The model1 parameters after the update are: \n",
      "\n",
      "Parameter containing:\n",
      "tensor([[-0.0255,  0.0019,  0.0182,  ...,  0.0306,  0.0287, -0.0212],\n",
      "        [-0.0058, -0.0313, -0.0104,  ..., -0.0088,  0.0237, -0.0251],\n",
      "        [ 0.0251, -0.0220,  0.0353,  ...,  0.0135,  0.0281, -0.0169],\n",
      "        ...,\n",
      "        [-0.0008,  0.0154,  0.0108,  ...,  0.0141, -0.0304, -0.0147],\n",
      "        [ 0.0176,  0.0298,  0.0250,  ..., -0.0115, -0.0179,  0.0200],\n",
      "        [ 0.0198, -0.0363, -0.0193,  ..., -0.0280,  0.0090, -0.0007]],\n",
      "       requires_grad=True)\n",
      "Parameter containing:\n",
      "tensor([-0.0312,  0.0009,  0.0074, -0.0375,  0.0077,  0.0182,  0.0312,  0.0250,\n",
      "         0.0170, -0.0041], requires_grad=True)\n"
     ]
    }
   ],
   "source": [
    "def zero_grad(params): #set grad to zero\n",
    "    for par in params:\n",
    "        if not(par.grad is None):\n",
    "            par.grad.data.zero_()\n",
    "            \n",
    "def random_update(model, noise_scale=0.1, normalized=False):\n",
    "    for par in model.parameters():\n",
    "        noise = torch.randn_like(par)*noise_scale\n",
    "        if normalized: noise = noise/torch.norm(noise) \n",
    "        par.data = par.data + noise\n",
    "        \n",
    "def gradient_update(loss, params, lr=1e-4):\n",
    "    zero_grad(params);\n",
    "    loss.backward();\n",
    "    \n",
    "    with torch.no_grad():\n",
    "        for par in params:\n",
    "            par.data -= lr*par.grad.data\n",
    "            \n",
    "def print_params(model):\n",
    "    for par in model.parameters():\n",
    "        print(par)\n",
    "set_seed(seed=SEED)\n",
    "model1 = MLP(in_dim=784, out_dim=10, hidden_dim=[])\n",
    "print('\\n The model1 parameters before the update are: \\n')\n",
    "print_params(model1)\n",
    "loss = loss_fn(model1(X), y)\n",
    "\n",
    "## Uncomment below to test your function\n",
    "gradient_update(loss, list(model1.parameters()), lr=1e-1)\n",
    "print('\\n The model1 parameters after the update are: \\n')\n",
    "print_params(model1)        "
   ]
  },
  {
   "cell_type": "markdown",
   "metadata": {},
   "source": [
    "##### 1.4 Conditioning\n",
    "###### Momentum:\n",
    "In the face of noisy gradients, gradient descent might have oscillations and the neural network might take a very long time to converge, if it converges at all. This can be avoided by adding a history of past gradients, with the opposite sign of gradient update, to relieve the method of noisy gradients\n",
    "\n",
    "\\begin{equation}\n",
    "    w_t = w_{t-1} - \\eta*\\nabla J(w_{t-1}) + \\beta*(w_{t-1}-w_{t-2})\n",
    "\\end{equation}\n",
    "\n",
    "The opposite sign between gradient update and the momentum term regulate each other"
   ]
  },
  {
   "cell_type": "code",
   "execution_count": 94,
   "metadata": {},
   "outputs": [
    {
     "name": "stdout",
     "output_type": "stream",
     "text": [
      "Random seed 2021 has been set.\n",
      "\n",
      " The model2 parameters before the update are: \n",
      "\n",
      "Parameter containing:\n",
      "tensor([[-0.0264,  0.0010,  0.0173,  ...,  0.0297,  0.0278, -0.0221],\n",
      "        [-0.0040, -0.0295, -0.0086,  ..., -0.0070,  0.0254, -0.0233],\n",
      "        [ 0.0240, -0.0231,  0.0342,  ...,  0.0124,  0.0270, -0.0180],\n",
      "        ...,\n",
      "        [-0.0005,  0.0157,  0.0111,  ...,  0.0144, -0.0301, -0.0144],\n",
      "        [ 0.0181,  0.0303,  0.0255,  ..., -0.0110, -0.0175,  0.0205],\n",
      "        [ 0.0208, -0.0353, -0.0183,  ..., -0.0271,  0.0099,  0.0003]],\n",
      "       requires_grad=True)\n",
      "Parameter containing:\n",
      "tensor([-0.0290, -0.0033,  0.0100, -0.0320,  0.0022,  0.0221,  0.0307,  0.0243,\n",
      "         0.0159, -0.0064], requires_grad=True)\n",
      "\n",
      " The model2 parameters after the update are: \n",
      "\n",
      "Parameter containing:\n",
      "tensor([[ 1.5907,  0.0124, -2.0231,  ..., -1.0863,  0.4039, -0.9568],\n",
      "        [ 0.4642,  0.6011, -0.7374,  ...,  0.5474, -0.2758, -0.6551],\n",
      "        [-1.4099, -1.1027,  0.6510,  ..., -1.0184,  0.6521,  0.1327],\n",
      "        ...,\n",
      "        [-0.5100,  0.5073, -0.0720,  ...,  1.1190,  0.2898, -0.9659],\n",
      "        [-0.4393, -0.1162,  0.7554,  ...,  0.0804, -0.1845,  0.3549],\n",
      "        [-1.0832,  1.0072, -0.4262,  ..., -0.3768, -1.7499,  0.6017]],\n",
      "       requires_grad=True)\n",
      "Parameter containing:\n",
      "tensor([ 0.4127, -1.0413,  0.8678, -1.6206, -0.9609,  0.9457, -0.5185,  1.3421,\n",
      "         0.6546,  0.3697], requires_grad=True)\n"
     ]
    }
   ],
   "source": [
    "def momentum_update(loss, params, grad_vel, lr=1e-3, beta=0.8):\n",
    "    zero_grad(params);\n",
    "    loss.backward();\n",
    "    with torch.no_grad():\n",
    "        for (par, vel) in zip(params,grad_vel):\n",
    "            par.data = par.data - par.grad.data*lr + beta*(vel.data)\n",
    "set_seed(seed=SEED)\n",
    "model2 = MLP(in_dim=784, out_dim=10, hidden_dim=[])\n",
    "print('\\n The model2 parameters before the update are: \\n')\n",
    "print_params(model2)\n",
    "loss = loss_fn(model2(X), y)\n",
    "initial_vel = [torch.randn_like(p) for p in model2.parameters()]\n",
    "\n",
    "## Uncomment below to test your function\n",
    "momentum_update(loss, list(model2.parameters()), grad_vel=initial_vel, lr=1e-1, beta=0.9)\n",
    "print('\\n The model2 parameters after the update are: \\n')\n",
    "print_params(model2)           "
   ]
  },
  {
   "cell_type": "markdown",
   "metadata": {},
   "source": [
    "##### 1.5: Overparameterization:\n",
    "Demo showing how wider/deeper networks converge faster. This is due to over-parameterization, they all seem to land at the right solution faster. Of course, this is one way to deal with non-convexity, but it's always important to cross-validate\n",
    "\n",
    "##### 1.6 Mini-batching since full gradients are expensive\n",
    "In this example, until now, we used only 500 examples. That is fine for computing gradients, but for larger training sets, this gradient computation would be very expensive both in terms of time and space. So we use stochastic gradient descent (SGD) and choose the size of the mini-batch\n",
    "\n",
    "Mini-batches are useful, but should be treated with caution! A very small mini-batch size might lead to a very noisy estimate of the gradient and might lead us astray, whereas a very large mini-batch might be very expensive to compute. An intuitive way to adapt the model update to the mini-batch size is to modulate the learning rate directly with the batch size. If we use a very small mini-batch, we are unsure of the gradient, so we should use a small learning rate. On the other hand, if we use a large mini-batch size, we are more certain of the gradient estimate, and we can afford to use a large learning rate"
   ]
  },
  {
   "cell_type": "code",
   "execution_count": 97,
   "metadata": {},
   "outputs": [
    {
     "name": "stdout",
     "output_type": "stream",
     "text": [
      "torch.Size([100, 28, 28])\n"
     ]
    }
   ],
   "source": [
    "def sample_minibatch(input_data, target_data, num_points=100):\n",
    "    batch_indices = torch.randint(len(input_data),size=(num_points,));\n",
    "    batch_input, batch_target = input_data[batch_indices], target_data[batch_indices]\n",
    "    return batch_input, batch_target\n",
    "x_batch, y_batch = sample_minibatch(X, y, 100)\n",
    "print(x_batch.shape)"
   ]
  },
  {
   "cell_type": "markdown",
   "metadata": {},
   "source": [
    "##### 1.7: Adaptive methods\n",
    "There seem to be way too many knobs to turn while training a neural network:\n",
    "\n",
    "* Problem related: Loss function, regularization\n",
    "* Model: Architecture, activation function\n",
    "* Optimizer: Learning rate, batch size, momentum\n",
    "\n",
    "Here, we code a more robust optimizer than just SGD, called RMSProp, which is as follows:\n",
    "\n",
    "\\begin{equation}\n",
    "v_t = \\alpha v_{t-1} + (1-\\alpha)\\nabla J(w_t)^2 \\\\\n",
    "w_{t+1} = w_t - \\eta \\frac{\\nabla J(w_t)}{\\sqrt{v_t + \\epsilon}}\n",
    "\\end{equation}\n",
    "\n",
    "This method weighs the update inversely by the running sum of square of past gradients. "
   ]
  },
  {
   "cell_type": "code",
   "execution_count": null,
   "metadata": {},
   "outputs": [],
   "source": []
  },
  {
   "cell_type": "code",
   "execution_count": null,
   "metadata": {},
   "outputs": [],
   "source": []
  }
 ],
 "metadata": {
  "kernelspec": {
   "display_name": "Python 3",
   "language": "python",
   "name": "python3"
  },
  "language_info": {
   "codemirror_mode": {
    "name": "ipython",
    "version": 3
   },
   "file_extension": ".py",
   "mimetype": "text/x-python",
   "name": "python",
   "nbconvert_exporter": "python",
   "pygments_lexer": "ipython3",
   "version": "3.7.3"
  }
 },
 "nbformat": 4,
 "nbformat_minor": 2
}
