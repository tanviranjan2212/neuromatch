{
 "cells": [
  {
   "cell_type": "markdown",
   "metadata": {},
   "source": [
    "# Deep Learning at Neuromatch 2021\n",
    "Tanvi Ranjan, August 2021\n",
    "## Week 1, Day 4: Optimization (Jose-Gallego and colleagues)\n",
    "[W1D4 tutorial](https://deeplearning.neuromatch.io/tutorials/W1D4_Optimization/student/W1D4_Tutorial1.html)\n",
    "\n",
    "This tutorial is all about optimization parameters for training a neural network. There are many parameters to optimize when building a neural network for model prediction or classification, all in addition to choosing the structure of the neural network itself. The following is a list of some parameters:\n",
    "* Learning rate:\n",
    "    Too small a learning rate leads to slow convergence, too large leads to the parameters being bounced around a lot. Problem is solved by using Adaptive learning rate algos such as Adagrad which adapt learning rate for each layer $i$ based on previous gradients:\n",
    "    $$ \\eta_t = \\frac{\\eta}{\\sqrt{[v_{t}]_i + \\epsilon}}, [v_t]_i = \\sum_{s=0}^{t}\\nabla [J(w_s)]_i^2$$\n",
    "    \n",
    "    or RMS-prop, where   $[v_t]_i = \\alpha [v_{t-1}]_i + (1-\\alpha) \\nabla ([J(w_s)]_i)^2$\n",
    "    Adam = RMS-prop + momentum\n",
    "* Conditioning:\n",
    "    History of previous updates is completely disregarded (if not using a learning rate), use momentum for those purposes\n",
    "    \n",
    "* Long time to calculate gradients with Gradient descent\n",
    "    Use stochastic gradient descent with mini-batches.\n",
    "    How to choose batch-size? Choose the biggest that fits on GPU"
   ]
  },
  {
   "cell_type": "code",
   "execution_count": 24,
   "metadata": {},
   "outputs": [],
   "source": [
    "import time\n",
    "import copy\n",
    "import torch\n",
    "import torchvision\n",
    "import numpy as np\n",
    "\n",
    "import torch.nn as nn\n",
    "import torch.optim as optim\n",
    "import torch.nn.functional as F\n",
    "import torchvision.datasets as datasets\n",
    "import matplotlib.pyplot as plt\n",
    "\n",
    "from tqdm.auto import tqdm"
   ]
  },
  {
   "cell_type": "code",
   "execution_count": 5,
   "metadata": {},
   "outputs": [
    {
     "name": "stdout",
     "output_type": "stream",
     "text": [
      "Random seed 2021 has been set.\n"
     ]
    }
   ],
   "source": [
    "import random\n",
    "import torch\n",
    "\n",
    "def set_seed(seed=None, seed_torch=True):\n",
    "    if seed is None:\n",
    "        seed = np.random.choice(2 ** 32)\n",
    "        random.seed(seed)\n",
    "        np.random.seed(seed)\n",
    "    if seed_torch:\n",
    "        torch.manual_seed(seed)\n",
    "        torch.cuda.manual_seed_all(seed)\n",
    "        torch.cuda.manual_seed(seed)\n",
    "        torch.backends.cudnn.benchmark = False\n",
    "        torch.backends.cudnn.deterministic = True\n",
    "    print(f'Random seed {seed} has been set.')\n",
    "\n",
    "\n",
    "# In case that `DataLoader` is used\n",
    "def seed_worker(worker_id):\n",
    "    worker_seed = torch.initial_seed() % 2**32\n",
    "    np.random.seed(worker_seed)\n",
    "    random.seed(worker_seed)\n",
    "\n",
    "SEED = 2021\n",
    "set_seed(seed=SEED)"
   ]
  },
  {
   "cell_type": "markdown",
   "metadata": {},
   "source": [
    "### Section 1: Optimization techniques\n",
    "##### Section 1.2: MLP for image classification\n",
    "Let's load the data (In NMA, they used a different function, but it is essentially the same), normalize it and subsample (for the purposes of this tutorial)"
   ]
  },
  {
   "cell_type": "code",
   "execution_count": 44,
   "metadata": {},
   "outputs": [
    {
     "data": {
      "image/png": "[encoded data removed]",
      "text/plain": [
       "<Figure size 2160x216 with 5 Axes>"
      ]
     },
     "metadata": {
      "needs_background": "light"
     },
     "output_type": "display_data"
    }
   ],
   "source": [
    "mnist_data_train = datasets.MNIST(root='./data',train=True,download=True,\n",
    "                           transform=torchvision.transforms.ToTensor())\n",
    "mnist_data_test = datasets.MNIST(root='./data',train=False,download=True,\n",
    "                                transform =torchvision.transforms.ToTensor())\n",
    "\n",
    "randidx = torch.randint(len(mnist_data_train), size=(5,))\n",
    "\n",
    "f,ax = plt.subplots(1,5,figsize=(30,3),sharex=True,sharey=True)\n",
    "for ir, rr in enumerate(randidx):\n",
    "    img, label = mnist_data_train[rr];\n",
    "    ax[ir].imshow(img.squeeze()); ax[ir].set_title(label)\n",
    "    \n",
    "train_mean, train_std = mnist_data_train.data.float().mean(), mnist_data_train.data.float().std();\n",
    "\n",
    "mnist_data_train.data = (mnist_data_train.data.float() - train_mean)/train_std\n",
    "mnist_data_test.data = (mnist_data_test.data.float() - train_mean)/train_std\n",
    "\n",
    "Nchoose = 500;\n",
    "choose_idx = np.random.choice(len(mnist_data_train),Nchoose)\n",
    "X,y = mnist_data_train.data[Nchoose,], mnist_data_train.targets[Nchoose]"
   ]
  },
  {
   "cell_type": "code",
   "execution_count": 34,
   "metadata": {},
   "outputs": [
    {
     "data": {
      "text/plain": [
       "tensor([22846,   662, 58380, 27295, 38590])"
      ]
     },
     "execution_count": 34,
     "metadata": {},
     "output_type": "execute_result"
    }
   ],
   "source": [
    "torch.randint(len(mnist_data_train), size=(5,))"
   ]
  },
  {
   "cell_type": "code",
   "execution_count": null,
   "metadata": {},
   "outputs": [],
   "source": []
  }
 ],
 "metadata": {
  "kernelspec": {
   "display_name": "Python 3",
   "language": "python",
   "name": "python3"
  },
  "language_info": {
   "codemirror_mode": {
    "name": "ipython",
    "version": 3
   },
   "file_extension": ".py",
   "mimetype": "text/x-python",
   "name": "python",
   "nbconvert_exporter": "python",
   "pygments_lexer": "ipython3",
   "version": "3.7.3"
  }
 },
 "nbformat": 4,
 "nbformat_minor": 2
}
