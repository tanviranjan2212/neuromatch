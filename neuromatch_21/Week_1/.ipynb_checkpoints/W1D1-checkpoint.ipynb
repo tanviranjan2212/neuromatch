{
 "cells": [
  {
   "cell_type": "markdown",
   "metadata": {},
   "source": [
    "# Deep Learning at Neuromatch 2021\n",
<<<<<<< HEAD
    "Tanvi Ranjan, August 2021\n",
    "## Week 1, Day 1: Basics of Pytorch\n",
    "I was not able to attend Neuromatch 2021, but I worked through the tutorials to better understand Deep Learning\n",
    "\n",
    "[W1D1 tutorial](https://deeplearning.neuromatch.io/tutorials/W1D1_BasicsAndPytorch/student/W1D1_Tutorial1.html#section-2-4-gpus)\n",
    "\n",
=======
    "## Week 1, Day 1: Basics of Pytorch\n",
    "I was not able to attend Neuromatch 2021, but I worked through the tutorials to better understand Deep Learning\n",
    "\n",
>>>>>>> c9b4e272be8509c964ef1ad8e6f26e43f6c796e9
    "#### Section 2.1: Making Tensors"
   ]
  },
  {
   "cell_type": "code",
   "execution_count": 1,
   "metadata": {},
   "outputs": [],
   "source": [
    "!pip install git+https://github.com/NeuromatchAcademy/evaltools --quiet\n",
    "\n",
    "from evaltools.airtable import AirtableForm"
   ]
  },
  {
   "cell_type": "code",
   "execution_count": 36,
   "metadata": {},
   "outputs": [],
   "source": [
    "# Imports\n",
    "import time\n",
    "import torch\n",
    "import random\n",
    "import numpy as np\n",
    "import pandas as pd\n",
    "import matplotlib.pyplot as plt\n",
    "import seaborn as sns\n",
    "\n",
    "from torch import nn\n",
    "from torchvision import datasets\n",
    "from torchvision.transforms import ToTensor\n",
    "from torch.utils.data import DataLoader"
   ]
  },
  {
   "cell_type": "code",
   "execution_count": 3,
   "metadata": {},
   "outputs": [],
   "source": [
    "# @title Helper Functions\n",
    "\n",
    "atform = AirtableForm('appn7VdPRseSoMXEG','W1D1_T1','https://portal.neuromatchacademy.org/api/redirect/to/97e94a29-0b3a-4e16-9a8d-f6838a5bd83d')\n",
    "\n",
    "\n",
    "def checkExercise1(A, B, C, D):\n",
    "  \"\"\"\n",
    "  Helper function for checking exercise.\n",
    "\n",
    "  Args:\n",
    "    A: torch.Tensor\n",
    "    B: torch.Tensor\n",
    "    C: torch.Tensor\n",
    "    D: torch.Tensor\n",
    "  Returns:\n",
    "    Nothing.\n",
    "  \"\"\"\n",
    "  errors = []\n",
    "  # TODO better errors and error handling\n",
    "  if not torch.equal(A.to(int),torch.ones(20, 21).to(int)):\n",
    "    errors.append(f\"Got: {A} \\n Expected: {torch.ones(20, 21)} (shape: {torch.ones(20, 21).shape})\")\n",
    "  if not np.array_equal( B.numpy(),np.vander([1, 2, 3], 4)):\n",
    "    errors.append(\"B is not a tensor containing the elements of Z \")\n",
    "  if C.shape != (20, 21):\n",
    "    errors.append(\"C is not the correct shape \")\n",
    "  if not torch.equal(D, torch.arange(4, 41, step=2)):\n",
    "    errors.append(\"D does not contain the correct elements\")\n",
    "\n",
    "  if errors == []:\n",
    "    print(\"All correct!\")\n",
    "\n",
    "  else:\n",
    "    [print(e) for e in errors]\n",
    "\n",
    "\n",
    "def timeFun(f, dim, iterations, device='cpu'):\n",
    "  iterations = iterations\n",
    "  t_total = 0\n",
    "  for _ in range(iterations):\n",
    "    start = time.time()\n",
    "    f(dim, device)\n",
    "    end = time.time()\n",
    "    t_total += end - start\n",
    "\n",
    "  if device == 'cpu':\n",
    "    print(f\"time taken for {iterations} iterations of {f.__name__}({dim}, {device}): {t_total:.5f}\")\n",
    "  else:\n",
    "    print(f\"time taken for {iterations} iterations of {f.__name__}({dim}, {device}): {t_total:.5f}\")\n"
   ]
  },
  {
   "cell_type": "markdown",
   "metadata": {},
   "source": [
<<<<<<< HEAD
    "##### a) Constructing tensors from lists, tuples and arrays"
=======
    "##### Constructing tensors from lists, tuples and arrays"
>>>>>>> c9b4e272be8509c964ef1ad8e6f26e43f6c796e9
   ]
  },
  {
   "cell_type": "code",
   "execution_count": 20,
   "metadata": {},
   "outputs": [
    {
     "name": "stdout",
     "output_type": "stream",
     "text": [
      "Making tensors from data types\n",
      "tensor([0, 1, 2])\n",
      "tensor([[0, 1],\n",
      "        [1, 2]])\n",
      "tensor([1., 1., 1., 1., 1.], dtype=torch.float64)\n",
      "\n",
      "\n",
      "Making tensors directly\n",
      "tensor([[1., 1., 1., 1., 1.],\n",
      "        [1., 1., 1., 1., 1.]])\n",
      "tensor([[ 0.0000e+00,  2.5244e-29, -2.1964e-37, -1.5849e+29,  1.1210e-44],\n",
      "        [ 0.0000e+00,  0.0000e+00,  0.0000e+00,  0.0000e+00,  0.0000e+00]])\n",
      "\n",
      "\n",
      "Making random tensors\n",
      "tensor([0.5273, 0.2334, 0.7807, 0.6023, 0.1167])\n",
      "tensor([-2.3272, -0.1689, -0.1354, -0.3584,  0.9301])\n"
     ]
    }
   ],
   "source": [
    "from_list = torch.tensor([0,1,2]);\n",
    "from_tuple = torch.tensor(((0,1),(1,2)));\n",
    "from_array = torch.tensor(np.ones(shape=(5,)))\n",
    "# from_text = torch.tensor(['text']) # strings don't work\n",
    "\n",
    "print('Making tensors from data types')\n",
    "print(from_list)\n",
    "print(from_tuple)\n",
    "print(from_array)\n",
    "\n",
    "print('\\n\\nMaking tensors directly')\n",
    "tensor_array = torch.ones([2,5]);\n",
    "tensor_empty = torch.empty([2,5])\n",
    "print(tensor_array)\n",
    "print(tensor_empty)\n",
    "\n",
    "print('\\n\\nMaking random tensors');\n",
    "tensor_randu = torch.rand([5,])\n",
    "tensor_randn = torch.randn([5,])\n",
    "print(tensor_randu)\n",
    "print(tensor_randn)"
   ]
  },
  {
   "cell_type": "code",
   "execution_count": 23,
   "metadata": {},
   "outputs": [],
   "source": [
    "''' Set seed for reproducibility\n",
    "'''\n",
    "seed = 0;\n",
    "np.random.seed(seed);\n",
    "random.seed(seed)\n",
    "\n",
    "# Need extra steps to set seed for torch\n",
    "torch.manual_seed(seed);\n",
    "torch.cuda.manual_seed_all(seed)\n",
    "torch.cuda.manual_seed(seed)\n",
    "torch.backends.cudnn.benchmark = False\n",
    "torch.backends.cudnn.deterministic = True\n",
    "\n"
   ]
  },
  {
   "cell_type": "markdown",
   "metadata": {},
   "source": [
    "Create the following tensors:\n",
    "\n",
    "𝐴:  20 by 21 tensor consisting of ones\n",
    "\n",
    "𝐵: a tensor with elements equal to the elements of numpy array 𝑍\n",
    "\n",
    "𝐶: a tensor with the same number of elements as 𝐴 but with values ∼𝑈(0,1)\n",
    "\n",
    "𝐷: a 1D tensor containing the even numbers between 4 and 40 inclusive."
   ]
  },
  {
   "cell_type": "code",
   "execution_count": 39,
   "metadata": {},
   "outputs": [
    {
     "data": {
      "image/png": "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\n",
      "text/plain": [
       "<Figure size 1512x216 with 7 Axes>"
      ]
     },
     "metadata": {
      "needs_background": "light"
     },
     "output_type": "display_data"
    }
   ],
   "source": [
    "Z = np.vander([1, 2, 3], 4)\n",
    "A = torch.ones([20,21]); #print(A)\n",
    "B = torch.tensor(Z); #print(B)\n",
    "C = torch.rand(A.size()); #print(C)\n",
    "D = torch.arange(4, 41, step=2); #print(D)\n",
    "\n",
    "f,ax = plt.subplots(1,4,figsize=(21,3));\n",
    "pos = ax[0].imshow(A); ax[0].set_title('A'); f.colorbar(pos,ax=ax[0])\n",
    "pos = ax[1].imshow(B); ax[1].set_title('B'); f.colorbar(pos,ax=ax[1])\n",
    "pos = ax[2].imshow(C); ax[2].set_title('C'); f.colorbar(pos,ax=ax[2])\n",
    "ax[3].plot(D,'.-'); sns.despine(); ax[3].set_ylabel('even no. b/w 4 and 40');\n",
    "ax[3].set_title('D')\n",
    "\n",
    "plt.show();"
   ]
  },
  {
<<<<<<< HEAD
   "cell_type": "markdown",
   "metadata": {},
   "source": [
    "#### Section 2.2: Numpy-like operations on tensors\n",
    "##### a) Tensor-tensor operations\n",
    "Tensor-tensor operations are very similar to numpy operations. .add(), .multiply(), .mean(axis=None) etc. Even a+b, a*b work"
   ]
  },
  {
   "cell_type": "code",
   "execution_count": 48,
   "metadata": {},
   "outputs": [
    {
     "name": "stdout",
     "output_type": "stream",
     "text": [
      "Addition:\n",
      "tensor([[ 1.2601,  0.8215,  0.9111],\n",
      "        [ 0.5851, -0.1283,  1.9594],\n",
      "        [ 2.3587,  0.9005,  0.2211],\n",
      "        [ 1.0844,  0.4287, -0.0727],\n",
      "        [-0.2269,  0.7495,  2.1081]])\n",
      "tensor([[ 1.2601,  0.8215,  0.9111],\n",
      "        [ 0.5851, -0.1283,  1.9594],\n",
      "        [ 2.3587,  0.9005,  0.2211],\n",
      "        [ 1.0844,  0.4287, -0.0727],\n",
      "        [-0.2269,  0.7495,  2.1081]])\n",
      "Multiply:\n",
      "tensor([[ 0.2601, -0.1785, -0.0889],\n",
      "        [-0.4149, -1.1283,  0.9594],\n",
      "        [ 1.3587, -0.0995, -0.7789],\n",
      "        [ 0.0844, -0.5713, -1.0727],\n",
      "        [-1.2269, -0.2505,  1.1081]])\n",
      "tensor([[ 0.2601, -0.1785, -0.0889],\n",
      "        [-0.4149, -1.1283,  0.9594],\n",
      "        [ 1.3587, -0.0995, -0.7789],\n",
      "        [ 0.0844, -0.5713, -1.0727],\n",
      "        [-1.2269, -0.2505,  1.1081]])\n"
     ]
    }
   ],
   "source": [
    "a=torch.ones([5,3]); b=torch.randn(a.size());\n",
    "c=torch.add(a,b); print(f'Addition:\\n{c}')\n",
    "print(a+b)\n",
    "\n",
    "torch.multiply(a,b,out=c); print(f'Multiply:\\n{c}');\n",
    "print(a*b)"
   ]
  },
  {
   "cell_type": "markdown",
   "metadata": {},
   "source": [
    "#### Section 2.3: Manipulating tensors in Pytorch\n",
    "I'm not going to work through them all because they are very similar to numpy. Useful to keep in mind however\n",
    "\n",
    "#### Section 2.4: GPU\n",
    "Use GPU by checking if cuda is available. CUDA is an interface developed by NVIDIA to interface with the GPU, but Pytorch seems to have a way to directly access GPU via Python. Pretty Neat!\n",
    "\n",
    "However, my macbook is stuck on OS 10.12.6 whereas one needs a 10.13 for CUDA to be compatible with GPU. Will try this later\n",
    "\n",
    "#### Section 2.5: Datasets and dataloaders\n",
    "Let's get started with using a simple dataset using dataloaders. "
   ]
  },
  {
   "cell_type": "code",
   "execution_count": 59,
   "metadata": {},
   "outputs": [],
   "source": [
    "from torchvision import datasets # easy access to public datasets\n",
    "from torchvision.transforms import ToTensor, Compose, Grayscale\n",
    "from torch.utils.data import dataloader"
   ]
  },
  {
   "cell_type": "markdown",
   "metadata": {},
   "source": [
    "##### a) Load CIFAR-10 dataset"
   ]
  },
  {
   "cell_type": "code",
   "execution_count": 84,
   "metadata": {},
   "outputs": [
    {
     "name": "stdout",
     "output_type": "stream",
     "text": [
      "Files already downloaded and verified\n",
      "Files already downloaded and verified\n",
      "Number of samples: 50000\n",
      "Number of class: 10\n",
      "Class names: ['airplane', 'automobile', 'bird', 'cat', 'deer', 'dog', 'frog', 'horse', 'ship', 'truck']\n",
      "Shape of image: torch.Size([3, 32, 32])\n"
     ]
    },
    {
     "data": {
      "image/png": "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\n",
      "text/plain": [
       "<Figure size 432x288 with 1 Axes>"
      ]
     },
     "metadata": {
      "needs_background": "light"
     },
     "output_type": "display_data"
    }
   ],
   "source": [
    "cfar = datasets.CIFAR10(root='data', download=True, train=True, transform=ToTensor());\n",
    "cfar_tst = datasets.CIFAR10(root='data', download=True, train=False, transform=ToTensor());\n",
    "print(f'Number of samples: {len(cfar)}');\n",
    "print(f'Number of class: {len(cfar.classes)}')\n",
    "print(f'Class names: {cfar.classes}')\n",
    "\n",
    "randimg, label = cfar[0]; print(f'Shape of image: {randimg.size()}')\n",
    "plt.imshow(randimg.permute(1,2,0)); plt.title('First image')\n",
    "plt.show()"
   ]
  },
  {
   "cell_type": "code",
   "execution_count": 88,
   "metadata": {},
   "outputs": [],
   "source": [
    "training_data = DataLoader(cfar,batch_size=64,shuffle=True);\n",
    "test_data = DataLoader(cfar_tst, batch_size=64,shuffle=True);"
   ]
  },
  {
   "cell_type": "code",
   "execution_count": 90,
   "metadata": {},
   "outputs": [
    {
     "data": {
      "text/plain": [
       "<torch.utils.data.dataloader.DataLoader at 0x13f6ec4e0>"
      ]
     },
     "execution_count": 90,
     "metadata": {},
     "output_type": "execute_result"
    }
   ],
   "source": [
    "def seed_worker(worker_id):\n",
    "    worker_seed = torch.initial_seed() % 2**32\n",
    "    numpy.random.seed(worker_seed)\n",
    "    random.seed(worker_seed)\n",
    "\n",
    "my_seed = 0; num_workers=2\n",
    "g_seed = torch.Generator()\n",
    "g_seed.manual_seed(my_seed)\n",
    "\n",
    "batch_size=64\n",
    "DataLoader(training_data,batch_size=batch_size,num_workers=num_workers,\n",
    "           worker_init_fn=seed_worker,generator=g_seed);"
   ]
  },
  {
   "cell_type": "markdown",
   "metadata": {},
   "source": [
    "#### Section 3: Neural networks"
   ]
  },
  {
   "cell_type": "markdown",
   "metadata": {},
   "source": [
    "##### Load the data and visualize"
   ]
  },
  {
   "cell_type": "code",
   "execution_count": 92,
   "metadata": {},
   "outputs": [],
   "source": [
    "from sklearn.datasets import make_moons\n",
    "X, y = make_moons(256, noise=0.1); #add some noise\n",
    "df = pd.DataFrame(dict(x0=X[:,0], x1=X[:,1], y=y));\n",
    "df.to_csv('sample_data.csv')"
   ]
  },
  {
   "cell_type": "code",
   "execution_count": 94,
   "metadata": {},
   "outputs": [
    {
     "data": {
      "text/plain": [
       "Text(0, 0.5, 'x1')"
      ]
     },
     "execution_count": 94,
     "metadata": {},
     "output_type": "execute_result"
    },
    {
     "data": {
      "image/png": "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\n",
      "text/plain": [
       "<Figure size 432x288 with 1 Axes>"
      ]
     },
     "metadata": {
      "needs_background": "light"
     },
     "output_type": "display_data"
    }
   ],
   "source": [
    "dat = pd.read_csv('sample_data.csv');\n",
    "X_orig = dat[['x0', 'x1']].to_numpy();\n",
    "y_orig = dat['y'].to_numpy();\n",
    "plt.scatter(X_orig[:,0], X_orig[:,1],s=40, c=y_orig); sns.despine();\n",
    "plt.xlabel('x0'); plt.ylabel('x1')"
   ]
  },
  {
   "cell_type": "markdown",
   "metadata": {},
   "source": [
    "##### Prepare for training"
   ]
  },
  {
   "cell_type": "code",
   "execution_count": 115,
   "metadata": {},
   "outputs": [
    {
     "name": "stdout",
     "output_type": "stream",
     "text": [
      "torch.float32\n"
     ]
    }
   ],
   "source": [
    "X_torch = torch.tensor(X_orig,dtype=torch.float32); print(X_torch.dtype); #dtype error with float 64\n",
    "y_torch = torch.tensor(y_orig); #print(y_torch.dtype)"
   ]
  },
  {
   "cell_type": "code",
   "execution_count": 124,
   "metadata": {},
   "outputs": [
    {
     "name": "stdout",
     "output_type": "stream",
     "text": [
      "NaiveNet(\n",
      "  (layers): Sequential(\n",
      "    (0): Linear(in_features=2, out_features=16, bias=True)\n",
      "    (1): ReLU()\n",
      "    (2): Linear(in_features=16, out_features=2, bias=True)\n",
      "  )\n",
      ")\n"
     ]
    },
    {
     "data": {
      "image/png": "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\n",
      "text/plain": [
       "<Figure size 432x288 with 1 Axes>"
      ]
     },
     "metadata": {
      "needs_background": "light"
     },
     "output_type": "display_data"
    }
   ],
   "source": [
    "class NaiveNet(nn.Module):\n",
    "    \n",
    "    def __init__(self): #define the model arch\n",
    "        super(NaiveNet, self).__init__();\n",
    "        self.layers = nn.Sequential(\n",
    "        nn.Linear(2,16),\n",
    "        nn.ReLU(),\n",
    "        nn.Linear(16,2),)\n",
    "        \n",
    "    def forward(self, x): #forward pass\n",
    "        return self.layers(x);\n",
    "    \n",
    "    def predict(self, x): #predict class by taking the maximum class\n",
    "        op = self.forward(x);\n",
    "        return torch.argmax(op,1); # important to specify dimension\n",
    "    \n",
    "    def train(self, X, y): #train this\n",
    "        pass\n",
    "    \n",
    "model = NaiveNet(); print(model);\n",
    "\n",
    "# rand_sample = np.arange(0,10)\n",
    "# X_sample = X_torch[rand_sample,];\n",
    "# op = model.predict(X_sample);\n",
    "# plt.plot(y_torch[rand_sample],'o');plt.plot(op,'*')\n",
    "\n",
    "def train(model, X, y):\n",
    "    loss_function = nn.CrossEntropyLoss();\n",
    "    lr = 1e-2;\n",
    "    optimizer = torch.optim.SGD(model.parameters(), lr=lr);\n",
    "    epochs = 15000;\n",
    "    \n",
    "    losses = [];\n",
    "    \n",
    "    for i in range(epochs):\n",
    "        y_pred = model.forward(X);\n",
    "        loss = loss_function(y_pred, y);\n",
    "        \n",
    "        optimizer.zero_grad();\n",
    "        loss.backward();\n",
    "        \n",
    "        optimizer.step();\n",
    "        \n",
    "        losses.append(loss.item());\n",
    "    return losses\n",
    "losses = train(model, X_torch, y_torch);\n",
    "plt.plot(losses); plt.xlabel('Epoch'); plt.ylabel('Cross entropy loss');\n",
    "sns.despine(); plt.show();\n"
   ]
  },
  {
   "cell_type": "markdown",
   "metadata": {},
   "source": [
    "This training decreases very quickly in the first epoch, and then decreases very slowly, it's very likely over-fitting. This plot is somewhat different from the solutions on the tutorial page - one possible reason for that is the seed setting"
   ]
  },
  {
=======
>>>>>>> c9b4e272be8509c964ef1ad8e6f26e43f6c796e9
   "cell_type": "code",
   "execution_count": null,
   "metadata": {},
   "outputs": [],
   "source": []
  }
 ],
 "metadata": {
  "kernelspec": {
   "display_name": "Python 3",
   "language": "python",
   "name": "python3"
  },
  "language_info": {
   "codemirror_mode": {
    "name": "ipython",
    "version": 3
   },
   "file_extension": ".py",
   "mimetype": "text/x-python",
   "name": "python",
   "nbconvert_exporter": "python",
   "pygments_lexer": "ipython3",
   "version": "3.7.3"
  }
 },
 "nbformat": 4,
 "nbformat_minor": 2
}
