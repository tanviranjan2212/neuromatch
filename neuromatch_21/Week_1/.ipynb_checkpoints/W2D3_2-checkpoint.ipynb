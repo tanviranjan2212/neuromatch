{
 "cells": [
  {
   "cell_type": "markdown",
   "metadata": {},
   "source": [
    "# Deep Learning at Neuromatch 2021\n",
    "Tanvi Ranjan, August 2021\n",
    "## Week 2, Day 3: Modern RNNs\n",
    "[W2D3, Modern Recurrent Neural Networks](https://deeplearning.neuromatch.io/tutorials/W2D3_ModernRecurrentNeuralNetworks/student/W2D3_Tutorial2.html)\n",
    "\n",
    "The previous tutorial is ground up and very useful for building fundamental understanding. I'm skipping it for now in the interest of time, but intend to come back to it soon\n",
    "\n",
    "In this tutorial, I will use LSTMs and GRUs for classification"
   ]
  },
  {
   "cell_type": "code",
   "execution_count": 2,
   "metadata": {},
   "outputs": [
    {
     "name": "stdout",
     "output_type": "stream",
     "text": [
      "Note: you may need to restart the kernel to use updated packages.\n"
     ]
    }
   ],
   "source": [
    "pip install d2l --quiet"
   ]
  },
  {
   "cell_type": "code",
   "execution_count": 27,
   "metadata": {},
   "outputs": [
    {
     "name": "stdout",
     "output_type": "stream",
     "text": [
      "Random seed 2021 has been set.\n"
     ]
    }
   ],
   "source": [
    "# Imports\n",
    "import math\n",
    "import time\n",
    "import nltk\n",
    "import random\n",
    "import collections\n",
    "\n",
    "import numpy as np\n",
    "import matplotlib.pyplot as plt\n",
    "from tqdm import tqdm\n",
    "import pdb\n",
    "import seaborn as sns\n",
    "\n",
    "import torch\n",
    "import torch.nn as nn\n",
    "from torch.nn import functional as F\n",
    "\n",
    "from torchtext import data, datasets\n",
    "\n",
    "from d2l import torch as d2l\n",
    "\n",
    "import random\n",
    "import torch\n",
    "\n",
    "def set_seed(seed=None, seed_torch=True):\n",
    "    if seed is None:\n",
    "        seed = np.random.choice(2 ** 32)\n",
    "        random.seed(seed)\n",
    "        np.random.seed(seed)\n",
    "    if seed_torch:\n",
    "        torch.manual_seed(seed)\n",
    "        torch.cuda.manual_seed_all(seed)\n",
    "        torch.cuda.manual_seed(seed)\n",
    "        torch.backends.cudnn.benchmark = False\n",
    "        torch.backends.cudnn.deterministic = True\n",
    "    print(f'Random seed {seed} has been set.')\n",
    "\n",
    "\n",
    "# In case that `DataLoader` is used\n",
    "def seed_worker(worker_id):\n",
    "    worker_seed = torch.initial_seed() % 2**32\n",
    "    np.random.seed(worker_seed)\n",
    "    random.seed(worker_seed)\n",
    "\n",
    "SEED = 2021\n",
    "set_seed(seed=SEED)"
   ]
  },
  {
   "cell_type": "code",
   "execution_count": 5,
   "metadata": {},
   "outputs": [
    {
     "name": "stderr",
     "output_type": "stream",
     "text": [
      "[nltk_data] Downloading package punkt to\n",
      "[nltk_data]     /Users/tanviranjan/nltk_data...\n",
      "[nltk_data]   Package punkt is already up-to-date!\n",
      "[nltk_data] Downloading package averaged_perceptron_tagger to\n",
      "[nltk_data]     /Users/tanviranjan/nltk_data...\n",
      "[nltk_data]   Package averaged_perceptron_tagger is already up-to-\n",
      "[nltk_data]       date!\n",
      "[nltk_data] Downloading package brown to\n",
      "[nltk_data]     /Users/tanviranjan/nltk_data...\n",
      "[nltk_data]   Package brown is already up-to-date!\n",
      "[nltk_data] Downloading package webtext to\n",
      "[nltk_data]     /Users/tanviranjan/nltk_data...\n",
      "[nltk_data]   Package webtext is already up-to-date!\n"
     ]
    },
    {
     "data": {
      "text/plain": [
       "True"
      ]
     },
     "execution_count": 5,
     "metadata": {},
     "output_type": "execute_result"
    }
   ],
   "source": [
    "nltk.download('punkt')\n",
    "nltk.download('averaged_perceptron_tagger')\n",
    "nltk.download('brown')\n",
    "nltk.download('webtext')"
   ]
  },
  {
   "cell_type": "code",
   "execution_count": 7,
   "metadata": {},
   "outputs": [
    {
     "name": "stdout",
     "output_type": "stream",
     "text": [
      "downloading aclImdb_v1.tar.gz\n"
     ]
    },
    {
     "name": "stderr",
     "output_type": "stream",
     "text": [
      "aclImdb_v1.tar.gz: 100%|██████████| 84.1M/84.1M [00:15<00:00, 5.36MB/s]\n"
     ]
    },
    {
     "name": "stdout",
     "output_type": "stream",
     "text": [
      "Data loading is completed. Sentence length: 50, Batch size: 32, and seed: 2021\n"
     ]
    }
   ],
   "source": [
    "def load_dataset(sentence_length=50, batch_size=32, seed=522):\n",
    "\n",
    "    TEXT = data.Field(sequential=True,\n",
    "                    tokenize=nltk.word_tokenize,\n",
    "                    lower=True,\n",
    "                    include_lengths=True,\n",
    "                    batch_first=True,\n",
    "                    fix_length=sentence_length)\n",
    "    LABEL = data.LabelField(dtype=torch.float)\n",
    "\n",
    "    train_data, test_data = datasets.IMDB.splits(TEXT, LABEL)\n",
    "\n",
    "  # If no specific vector embeddings are specified,\n",
    "  # Torchtext initializes random vector embeddings\n",
    "  # which would get updated during training through backpropagation.\n",
    "    TEXT.build_vocab(train_data)\n",
    "    LABEL.build_vocab(train_data)\n",
    "\n",
    "    train_data, valid_data = train_data.split(split_ratio=0.7,\n",
    "                                            random_state=random.seed(seed))\n",
    "    train_iter, valid_iter, test_iter = data.BucketIterator.splits((train_data, valid_data, test_data),\n",
    "                                                                  batch_size=batch_size, sort_key=lambda x: len(x.text),\n",
    "                                                                  repeat=False, shuffle=True)\n",
    "    vocab_size = len(TEXT.vocab)\n",
    "\n",
    "    print(f\"Data loading is completed. Sentence length: {sentence_length}, \"\n",
    "        f\"Batch size: {batch_size}, and seed: {seed}\")\n",
    "\n",
    "    return TEXT, vocab_size, train_iter, valid_iter, test_iter\n",
    "TEXT, vocab_size, train_iter, valid_iter, test_iter = load_dataset(seed=SEED)"
   ]
  },
  {
   "cell_type": "code",
   "execution_count": 32,
   "metadata": {},
   "outputs": [],
   "source": [
    "def train(model, train_iter, valid_iter, epochs, learning_rate):\n",
    "    loss_fn = nn.CrossEntropyLoss();\n",
    "    optimizer = torch.optim.Adam(model.parameters(), lr=learning_rate)\n",
    "    \n",
    "    train_loss=[]; train_acc=[]; valid_loss=[]; valid_acc=[];\n",
    "    for epoch in tqdm(range(epochs),position=0,leave=True):\n",
    "        model.train();\n",
    "        running_loss=0.0;\n",
    "        correct, total = 0,0\n",
    "        for batch in train_iter:\n",
    "            text, label = batch.text[0], torch.autograd.Variable(batch.label).long();\n",
    "            #conversion to long for label is required, but not sure why\n",
    "            optimizer.zero_grad();\n",
    "            output = model(text);\n",
    "            loss = loss_fn(output, label);\n",
    "            loss.backward();\n",
    "            optimizer.step();\n",
    "            \n",
    "            running_loss+=loss.item()\n",
    "            \n",
    "            predicted = torch.argmax(output, dim=1);\n",
    "            total += label.size(0);\n",
    "#             pdb.set_trace();\n",
    "            correct += (predicted==label).sum().item();\n",
    "        train_loss.append(running_loss/len(train_iter));\n",
    "        train_acc.append(correct/total)\n",
    "        \n",
    "        model.eval();\n",
    "        running_loss=0.0; correct,total=0,0;\n",
    "        with torch.no_grad():\n",
    "            for batch in valid_iter:\n",
    "                text,label=batch.text[0], torch.autograd.Variable(batch.label).long();\n",
    "                output = model(text);\n",
    "                loss = loss_fn(output,label);\n",
    "                running_loss +=loss.item();\n",
    "                total+=label.size(0);\n",
    "                \n",
    "                predicted = torch.argmax(output,1);\n",
    "                correct +=(predicted==label).sum().item();\n",
    "        valid_loss.append(running_loss/len(valid_iter));\n",
    "        valid_acc.append(correct/total)\n",
    "    return train_loss, valid_loss, train_acc, valid_acc\n",
    "        "
   ]
  },
  {
   "cell_type": "code",
   "execution_count": 36,
   "metadata": {},
   "outputs": [],
   "source": [
    "# Training function\n",
    "def train_from_tutorial(model, device, train_iter, valid_iter, epochs, learning_rate):\n",
    "  criterion = nn.CrossEntropyLoss()\n",
    "  optimizer = torch.optim.Adam(model.parameters(), lr=learning_rate)\n",
    "\n",
    "  train_loss, validation_loss = [], []\n",
    "  train_acc, validation_acc = [], []\n",
    "\n",
    "  for epoch in tqdm(range(epochs),position=0,leave=True):\n",
    "    #train\n",
    "    model.train()\n",
    "    running_loss = 0.\n",
    "    correct, total = 0, 0\n",
    "    steps = 0\n",
    "\n",
    "    for idx, batch in enumerate(train_iter):\n",
    "      text = batch.text[0]\n",
    "      # print(type(text), text.shape)\n",
    "      target = batch.label\n",
    "      target = torch.autograd.Variable(target).long()\n",
    "      text, target = text.to(device), target.to(device)\n",
    "\n",
    "      # add micro for coding training loop\n",
    "      optimizer.zero_grad()\n",
    "      output = model(text)\n",
    "\n",
    "      loss = criterion(output, target)\n",
    "      loss.backward()\n",
    "      optimizer.step()\n",
    "      steps += 1\n",
    "      running_loss += loss.item()\n",
    "\n",
    "      # get accuracy\n",
    "      _, predicted = torch.max(output, 1)\n",
    "      total += target.size(0)\n",
    "      correct += (predicted == target).sum().item()\n",
    "\n",
    "    train_loss.append(running_loss/len(train_iter))\n",
    "    train_acc.append(correct/total)\n",
    "\n",
    "    print(f'Epoch: {epoch + 1}, '\n",
    "          f'Training Loss: {running_loss/len(train_iter):.4f}, '\n",
    "          f'Training Accuracy: {100*correct/total: .2f}%')\n",
    "\n",
    "    # evaluate on validation data\n",
    "    model.eval()\n",
    "    running_loss = 0.\n",
    "    correct, total = 0, 0\n",
    "\n",
    "    with torch.no_grad():\n",
    "      for idx, batch in enumerate(valid_iter):\n",
    "        text = batch.text[0]\n",
    "        target = batch.label\n",
    "        target = torch.autograd.Variable(target).long()\n",
    "        text, target = text.to(device), target.to(device)\n",
    "\n",
    "        optimizer.zero_grad()\n",
    "        output = model(text)\n",
    "\n",
    "        loss = criterion(output, target)\n",
    "        running_loss += loss.item()\n",
    "\n",
    "        # get accuracy\n",
    "        _, predicted = torch.max(output, 1)\n",
    "        total += target.size(0)\n",
    "        correct += (predicted == target).sum().item()\n",
    "\n",
    "    validation_loss.append(running_loss/len(valid_iter))\n",
    "    validation_acc.append(correct/total)\n",
    "\n",
    "    print (f'Validation Loss: {running_loss/len(valid_iter):.4f}, '\n",
    "           f'Validation Accuracy: {100*correct/total: .2f}%')\n",
    "\n",
    "  return train_loss, train_acc, validation_loss, validation_acc\n",
    "\n"
   ]
  },
  {
   "cell_type": "code",
   "execution_count": 33,
   "metadata": {},
   "outputs": [
    {
     "name": "stderr",
     "output_type": "stream",
     "text": [
      "100%|██████████| 10/10 [14:28<00:00, 80.31s/it]\n"
     ]
    }
   ],
   "source": [
    "class VanillaRNN(nn.Module):\n",
    "    def __init__(self, layers, output_size, hidden_size, vocab_size, embed_size,\n",
    "               device):\n",
    "        super(VanillaRNN,self).__init__();\n",
    "        self.n_layers = layers\n",
    "        self.hidden_size=hidden_size\n",
    "        self.device = device;\n",
    "        self.embeddings = nn.Embedding(vocab_size,embed_size);\n",
    "        self.rnn = nn.RNN(embed_size,hidden_size,self.n_layers)\n",
    "        self.fc = nn.Linear(self.n_layers*hidden_size,output_size);\n",
    "    def forward(self,x):\n",
    "        x=self.embeddings(x);\n",
    "        x=x.permute(1,0,2);\n",
    "        h0=torch.zeros(2,x.size()[1],self.hidden_size);\n",
    "        output, hn=self.rnn(x,h0);\n",
    "        hn=hn.permute(1,0,2);\n",
    "        hn=hn.contiguous().reshape(hn.size()[0], hn.size()[1]*hn.size()[2])\n",
    "        logits = self.fc(hn);\n",
    "        return logits\n",
    "vanillaRNN = VanillaRNN(2,2,50,vocab_size,100,'cpu');\n",
    "train_loss, train_acc, valid_loss, valid_acc = train(vanillaRNN, \n",
    "                                                         train_iter, \n",
    "                                                         valid_iter, \n",
    "                                                         10, 2e-4)"
   ]
  },
  {
   "cell_type": "code",
   "execution_count": null,
   "metadata": {},
   "outputs": [
    {
     "name": "stderr",
     "output_type": "stream",
     "text": [
      "\r",
      "  0%|          | 0/10 [00:00<?, ?it/s]"
     ]
    }
   ],
   "source": [
    "train_tut_loss, train_tut_acc, valid_tut_loss, valid_tut_acc = train_from_tutorial(vanillaRNN,\n",
    "                                                                                   'cpu',\n",
    "                                                         train_iter, \n",
    "                                                         valid_iter, \n",
    "                                                         10, 2e-4)"
   ]
  },
  {
   "cell_type": "code",
   "execution_count": 34,
   "metadata": {},
   "outputs": [
    {
     "data": {
      "image/png": "[encoded data removed]",
      "text/plain": [
       "<Figure size 720x360 with 2 Axes>"
      ]
     },
     "metadata": {
      "needs_background": "light"
     },
     "output_type": "display_data"
    }
   ],
   "source": [
    "f,ax=plt.subplots(1,2,figsize=(10,5),sharex=True);\n",
    "ax[0].plot(train_loss,label='Train'); ax[0].plot(valid_loss,label='Valid');\n",
    "ax[0].set_ylabel('Loss'); ax[0].set_xlabel('Epoch')\n",
    "\n",
    "ax[1].plot(train_acc,label='Train'); ax[1].plot(valid_acc,label='Valid');\n",
    "ax[1].set_ylabel('Accuracy')\n",
    "\n",
    "ax[1].legend(frameon=False); sns.despine()"
   ]
  },
  {
   "cell_type": "code",
   "execution_count": null,
   "metadata": {},
   "outputs": [],
   "source": []
  },
  {
   "cell_type": "code",
   "execution_count": null,
   "metadata": {},
   "outputs": [],
   "source": []
  },
  {
   "cell_type": "code",
   "execution_count": null,
   "metadata": {},
   "outputs": [],
   "source": []
  },
  {
   "cell_type": "code",
   "execution_count": null,
   "metadata": {},
   "outputs": [],
   "source": []
  }
 ],
 "metadata": {
  "kernelspec": {
   "display_name": "Python 3",
   "language": "python",
   "name": "python3"
  },
  "language_info": {
   "codemirror_mode": {
    "name": "ipython",
    "version": 3
   },
   "file_extension": ".py",
   "mimetype": "text/x-python",
   "name": "python",
   "nbconvert_exporter": "python",
   "pygments_lexer": "ipython3",
   "version": "3.7.3"
  }
 },
 "nbformat": 4,
 "nbformat_minor": 2
}
